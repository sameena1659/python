{
 "cells": [
  {
   "cell_type": "markdown",
   "metadata": {},
   "source": [
    "# iterations:\n"
   ]
  },
  {
   "cell_type": "code",
   "execution_count": null,
   "metadata": {},
   "outputs": [],
   "source": [
    "#loops:\n",
    "-repeat sequence of instructions until a specific condition satisfies\n",
    "1. for loop\n",
    "2. while loop\n",
    "3. Nested for loop"
   ]
  },
  {
   "cell_type": "markdown",
   "metadata": {},
   "source": [
    "# for loop"
   ]
  },
  {
   "cell_type": "code",
   "execution_count": null,
   "metadata": {},
   "outputs": [],
   "source": [
    "- for loop is used in the case where we need to execute some part of the code until the give condition satisfied.\n",
    "-syntax:\n",
    "    for iterating_var in iterable:\n",
    "        statement/statements"
   ]
  },
  {
   "cell_type": "code",
   "execution_count": null,
   "metadata": {},
   "outputs": [],
   "source": [
    "for i in range(n,m):\n",
    "    statement\n",
    "for i in range(1,10):    (1 include and 10 exclude)\n",
    "    print(i)            (n -------->include(n))\n",
    "                         (m----------> exclude(m-1))\n",
    "\n",
    "-output..............\n",
    "1\n",
    "2\n",
    "3\n",
    "4\n",
    "5\n",
    "6\n",
    "7\n",
    "8\n",
    "9"
   ]
  },
  {
   "cell_type": "code",
   "execution_count": 1,
   "metadata": {},
   "outputs": [
    {
     "name": "stdout",
     "output_type": "stream",
     "text": [
      "1\n",
      "2\n",
      "3\n",
      "4\n",
      "5\n",
      "6\n",
      "7\n",
      "8\n"
     ]
    }
   ],
   "source": [
    "for i in range(1,9):\n",
    "    print(i)"
   ]
  },
  {
   "cell_type": "code",
   "execution_count": 2,
   "metadata": {},
   "outputs": [
    {
     "name": "stdout",
     "output_type": "stream",
     "text": [
      "1 2 3 4 5 6 7 8 9 "
     ]
    }
   ],
   "source": [
    "for i in range(1,10):\n",
    "    print(i,end=\" \")"
   ]
  },
  {
   "cell_type": "code",
   "execution_count": 3,
   "metadata": {},
   "outputs": [
    {
     "name": "stdout",
     "output_type": "stream",
     "text": [
      "1 3 5 7 9 "
     ]
    }
   ],
   "source": [
    "# odd numbers\n",
    "for i in range(1,10,2):    #difference 1 \n",
    "    print(i,end=\" \")       #step=difference(skipping)"
   ]
  },
  {
   "cell_type": "code",
   "execution_count": 13,
   "metadata": {},
   "outputs": [
    {
     "name": "stdout",
     "output_type": "stream",
     "text": [
      "2 4 6 8 "
     ]
    }
   ],
   "source": [
    "# even numbers\n",
    "for i in range(2,10,2):    \n",
    "    print(i,end=\" \")"
   ]
  },
  {
   "cell_type": "code",
   "execution_count": 12,
   "metadata": {},
   "outputs": [
    {
     "name": "stdout",
     "output_type": "stream",
     "text": [
      "h e l l o   w o r l d "
     ]
    }
   ],
   "source": [
    "for letter in \"hello world\":\n",
    "    print(letter,end=\" \")"
   ]
  },
  {
   "cell_type": "code",
   "execution_count": 9,
   "metadata": {},
   "outputs": [
    {
     "name": "stdout",
     "output_type": "stream",
     "text": [
      "1,2,3,4,"
     ]
    }
   ],
   "source": [
    "for letter in 1,2,3,4:\n",
    "    print(letter,end=\",\")"
   ]
  },
  {
   "cell_type": "code",
   "execution_count": 15,
   "metadata": {},
   "outputs": [
    {
     "name": "stdout",
     "output_type": "stream",
     "text": [
      "enter number:60\n",
      "1 2 3 4 5 6 7 8 9 10 11 12 13 14 15 16 17 18 19 20 21 22 23 24 25 26 27 28 29 30 31 32 33 34 35 36 37 38 39 40 41 42 43 44 45 46 47 48 49 50 51 52 53 54 55 56 57 58 59 60 "
     ]
    }
   ],
   "source": [
    "#natural numbers\n",
    "n=int(input(\"enter number:\"))\n",
    "for i in range(1,n+1):\n",
    "    print(i,end=\" \")"
   ]
  },
  {
   "cell_type": "code",
   "execution_count": 19,
   "metadata": {},
   "outputs": [
    {
     "name": "stdout",
     "output_type": "stream",
     "text": [
      "enter number:5\n",
      "5 10 15 20 25 "
     ]
    }
   ],
   "source": [
    "n=int(input(\"enter number:\"))\n",
    "for i in range(1,n+1):\n",
    "    print(i*5,end=\" \")"
   ]
  },
  {
   "cell_type": "code",
   "execution_count": 20,
   "metadata": {},
   "outputs": [
    {
     "data": {
      "text/plain": [
       "97"
      ]
     },
     "execution_count": 20,
     "metadata": {},
     "output_type": "execute_result"
    }
   ],
   "source": [
    "ord('a')"
   ]
  },
  {
   "cell_type": "code",
   "execution_count": 21,
   "metadata": {},
   "outputs": [
    {
     "data": {
      "text/plain": [
       "65"
      ]
     },
     "execution_count": 21,
     "metadata": {},
     "output_type": "execute_result"
    }
   ],
   "source": [
    "ord('A')"
   ]
  },
  {
   "cell_type": "code",
   "execution_count": 1,
   "metadata": {},
   "outputs": [
    {
     "name": "stdout",
     "output_type": "stream",
     "text": [
      "n value:1\n",
      "m value:5\n",
      "3.0\n"
     ]
    }
   ],
   "source": [
    "#average\n",
    "n=int(input(\"n value:\"))\n",
    "m=int(input(\"m value:\"))\n",
    "s=0  # sum\n",
    "for i in range(n,m+1):\n",
    "    s+=i  # s=s+i \n",
    "print(s/(m-n+1))   #average\n",
    "    "
   ]
  },
  {
   "cell_type": "code",
   "execution_count": 3,
   "metadata": {},
   "outputs": [
    {
     "name": "stdout",
     "output_type": "stream",
     "text": [
      "aba\n",
      "aba sum is 292\n"
     ]
    }
   ],
   "source": [
    "#aba\n",
    "#97+98+97=......\n",
    "a=input()\n",
    "s=0\n",
    "for i in a:\n",
    "    s=s+ord(i)\n",
    "print(a,\"sum is\",s)\n",
    "\n"
   ]
  },
  {
   "cell_type": "code",
   "execution_count": null,
   "metadata": {},
   "outputs": [],
   "source": [
    "#task 1\n",
    "# output:\n",
    "*    *\n",
    "*    *\n",
    "******       # using for loop\n",
    "*    *\n",
    "*    *           #  only one input\n",
    "******            \n",
    "*    *             \n",
    "*    *\n"
   ]
  },
  {
   "cell_type": "code",
   "execution_count": null,
   "metadata": {},
   "outputs": [],
   "source": [
    "#task 2\n",
    "n table multiples of m\n",
    "n=int(input())\n",
    "m=int(input(multiples of))           #2 inputs\n",
    "7 * 1 = 7\n",
    "7 * 2 =14"
   ]
  },
  {
   "cell_type": "code",
   "execution_count": null,
   "metadata": {},
   "outputs": [],
   "source": [
    "#task 3\n",
    "multiple tables\n",
    "how many tables   # n = number of tables\n",
    "how many multiples  # m=multiple tables\n",
    "1*1=1 2 3 4 5 \n",
    "1*2=2                #nested for loop\n",
    "1*3=3\n",
    "1*4=4\n",
    "1*5=5"
   ]
  },
  {
   "cell_type": "markdown",
   "metadata": {},
   "source": [
    "# While loop"
   ]
  },
  {
   "cell_type": "code",
   "execution_count": null,
   "metadata": {},
   "outputs": [],
   "source": [
    "# syntax\n",
    "initialization\n",
    "while(condition):\n",
    "    statement\n",
    "    increment/decrement"
   ]
  },
  {
   "cell_type": "code",
   "execution_count": 4,
   "metadata": {},
   "outputs": [
    {
     "name": "stdout",
     "output_type": "stream",
     "text": [
      "thank you\n",
      "thank you\n",
      "thank you\n"
     ]
    }
   ],
   "source": [
    "n=2\n",
    "while n<5:\n",
    "    print(\"thank you\")\n",
    "    n+=1"
   ]
  },
  {
   "cell_type": "code",
   "execution_count": 8,
   "metadata": {},
   "outputs": [
    {
     "name": "stdout",
     "output_type": "stream",
     "text": [
      "1 is odd\n",
      "2 is even\n",
      "3 is odd\n",
      "4 is even\n"
     ]
    }
   ],
   "source": [
    "n=1\n",
    "while n<5:\n",
    "    if n%2==0:\n",
    "        print(n,\"is even\")\n",
    "    else:\n",
    "        print(n,\"is odd\")\n",
    "    n+=1"
   ]
  },
  {
   "cell_type": "markdown",
   "metadata": {},
   "source": [
    "# Nested loop"
   ]
  },
  {
   "cell_type": "code",
   "execution_count": null,
   "metadata": {},
   "outputs": [],
   "source": [
    "# syntax\n",
    "for val in sequence:\n",
    "    for val in sequence:\n",
    "        statement\n",
    "else:\n",
    "    statements"
   ]
  },
  {
   "cell_type": "code",
   "execution_count": 12,
   "metadata": {},
   "outputs": [
    {
     "name": "stdout",
     "output_type": "stream",
     "text": [
      "0    \n",
      "0    1    \n",
      "0    1    2    \n",
      "0    1    2    3    \n",
      "0    1    2    3    4    \n"
     ]
    }
   ],
   "source": [
    "for i in range(1,6):\n",
    "    for j in range(0,i):\n",
    "        print(j,end=\"    \")\n",
    "    print('')"
   ]
  },
  {
   "cell_type": "code",
   "execution_count": 33,
   "metadata": {},
   "outputs": [
    {
     "name": "stdout",
     "output_type": "stream",
     "text": [
      "*    *    \n",
      "*    *    \n"
     ]
    }
   ],
   "source": [
    "for i in range(2,4):\n",
    "    for j in range(0,2):\n",
    "        print(\"*\",end=\"    \")\n",
    "        \n",
    "    print('')"
   ]
  },
  {
   "cell_type": "code",
   "execution_count": null,
   "metadata": {},
   "outputs": [],
   "source": [
    "#task 1\n",
    "# output:\n",
    "*    *\n",
    "*    *\n",
    "******       # using for loop\n",
    "*    *\n",
    "*    *           #  only one input\n",
    "******            \n",
    "*    *             \n",
    "*    *\n",
    "..............................................................\n",
    "#task 2\n",
    "n table multiples of m\n",
    "n=int(input())\n",
    "m=int(input(multiples of))           #2 inputs\n",
    "7 * 1 = 7\n",
    "7 * 2 =14\n",
    "..............................................................\n",
    "#task 3\n",
    "multiple tables\n",
    "how many tables   # n = number of tables\n",
    "how many multiples  # m=multiple tables\n",
    "1*1=1 2 3 4 5 \n",
    "1*2=2                #nested for loop\n",
    "1*3=3\n",
    "1*4=4\n",
    "1*5=5"
   ]
  },
  {
   "cell_type": "markdown",
   "metadata": {},
   "source": [
    "# TASKS 1,2,3"
   ]
  },
  {
   "cell_type": "code",
   "execution_count": 38,
   "metadata": {},
   "outputs": [
    {
     "name": "stdout",
     "output_type": "stream",
     "text": [
      "*    *\n",
      "*    *\n",
      "******\n",
      "*    *\n",
      "*    *\n",
      "******\n",
      "*    *    \n",
      "*    *    \n"
     ]
    }
   ],
   "source": [
    "# Task 1\n",
    "for i in range(1,3):\n",
    "    print(\"*    *\")\n",
    "    print(\"*    *\")\n",
    "    print(\"******\")\n",
    "for i in range(2,4):\n",
    "    for j in range(0,2):\n",
    "        print(\"*\",end=\"    \")\n",
    "        \n",
    "    print('')\n",
    "    "
   ]
  },
  {
   "cell_type": "code",
   "execution_count": 48,
   "metadata": {},
   "outputs": [
    {
     "name": "stdout",
     "output_type": "stream",
     "text": [
      "table:2\n",
      "multiples of:10\n",
      "2 * 1 = 2\n",
      "2 * 2 = 4\n",
      "2 * 3 = 6\n",
      "2 * 4 = 8\n",
      "2 * 5 = 10\n",
      "2 * 6 = 12\n",
      "2 * 7 = 14\n",
      "2 * 8 = 16\n",
      "2 * 9 = 18\n",
      "2 * 10 = 20\n"
     ]
    }
   ],
   "source": [
    "#Task 2\n",
    "n=int(input(\"table:\"))\n",
    "m=int(input(\"multiples of:\"))\n",
    "for i in range(1,m+1):\n",
    "    print(n,\"*\",i,\"=\",n * i)\n",
    "    \n",
    "               \n",
    "\n"
   ]
  },
  {
   "cell_type": "code",
   "execution_count": 1,
   "metadata": {},
   "outputs": [
    {
     "name": "stdout",
     "output_type": "stream",
     "text": [
      "number of tables:4\n",
      "multiples of:5\n",
      "1 * 1 = 1\t2 * 1 = 2\t3 * 1 = 3\t4 * 1 = 4\t5 * 1 = 5\t1 * 2 = 2\t2 * 2 = 4\t3 * 2 = 6\t4 * 2 = 8\t5 * 2 = 10\t1 * 3 = 3\t2 * 3 = 6\t3 * 3 = 9\t4 * 3 = 12\t5 * 3 = 15\t1 * 4 = 4\t2 * 4 = 8\t3 * 4 = 12\t4 * 4 = 16\t5 * 4 = 20\t \n"
     ]
    }
   ],
   "source": [
    "n=int(input(\"number of tables:\"))\n",
    "m=int(input(\"multiples of:\"))\n",
    "for i in range(1,n+1):\n",
    "    for s in range(1,m+1):\n",
    "        print(s,\"*\",i,\"=\",s * i ,end=\"\\t\")\n",
    "print(\" \")       \n",
    "    "
   ]
  }
 ],
 "metadata": {
  "kernelspec": {
   "display_name": "Python 3",
   "language": "python",
   "name": "python3"
  },
  "language_info": {
   "codemirror_mode": {
    "name": "ipython",
    "version": 3
   },
   "file_extension": ".py",
   "mimetype": "text/x-python",
   "name": "python",
   "nbconvert_exporter": "python",
   "pygments_lexer": "ipython3",
   "version": "3.7.1"
  }
 },
 "nbformat": 4,
 "nbformat_minor": 2
}
