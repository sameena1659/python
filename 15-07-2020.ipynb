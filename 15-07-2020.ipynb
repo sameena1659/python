{
 "cells": [
  {
   "cell_type": "markdown",
   "metadata": {},
   "source": [
    "# # conditional statements:\n"
   ]
  },
  {
   "cell_type": "code",
   "execution_count": null,
   "metadata": {},
   "outputs": [],
   "source": [
    "- if statement \n",
    "- if-else statement\n",
    "- elif statement\n",
    "- nested if statements "
   ]
  },
  {
   "cell_type": "markdown",
   "metadata": {},
   "source": [
    "# if statement"
   ]
  },
  {
   "cell_type": "code",
   "execution_count": null,
   "metadata": {},
   "outputs": [],
   "source": [
    "# syntax\n",
    "if condition:\n",
    "    statement\n",
    "# indentation:\n",
    "- four spaces or one tab space     "
   ]
  },
  {
   "cell_type": "code",
   "execution_count": 1,
   "metadata": {},
   "outputs": [
    {
     "name": "stdout",
     "output_type": "stream",
     "text": [
      "enter a number:78\n",
      "positive\n"
     ]
    }
   ],
   "source": [
    "# positive\n",
    "n=int(input(\"enter a number:\"))\n",
    "if n>0:\n",
    "    print(\"positive\")"
   ]
  },
  {
   "cell_type": "code",
   "execution_count": 2,
   "metadata": {},
   "outputs": [
    {
     "name": "stdout",
     "output_type": "stream",
     "text": [
      "enter a number:4\n",
      "n is smaller than 10\n"
     ]
    }
   ],
   "source": [
    "n=int(input(\"enter a number:\"))\n",
    "if n<10:\n",
    "    print(\"n is smaller than 10\")"
   ]
  },
  {
   "cell_type": "markdown",
   "metadata": {},
   "source": [
    "# if-else statement"
   ]
  },
  {
   "cell_type": "code",
   "execution_count": null,
   "metadata": {},
   "outputs": [],
   "source": [
    "# syntax\n",
    "if condition:\n",
    "    statement\n",
    "else:\n",
    "    statement"
   ]
  },
  {
   "cell_type": "code",
   "execution_count": 7,
   "metadata": {},
   "outputs": [
    {
     "name": "stdout",
     "output_type": "stream",
     "text": [
      "enter age:19\n",
      "19 eligible\n"
     ]
    }
   ],
   "source": [
    "age=int(input(\"enter age:\"))\n",
    "if age>=18:\n",
    "    print(age,\"eligible\")\n",
    "else:\n",
    "    print(age,\"not eligible\")\n",
    "    "
   ]
  },
  {
   "cell_type": "code",
   "execution_count": 10,
   "metadata": {},
   "outputs": [
    {
     "name": "stdout",
     "output_type": "stream",
     "text": [
      "enter number:73\n",
      "odd\n"
     ]
    }
   ],
   "source": [
    "# even or odd\n",
    "n=int(input(\"enter number:\"))\n",
    "if n%2==0:\n",
    "    print(\"even\")\n",
    "else:\n",
    "    print(\"odd\")"
   ]
  },
  {
   "cell_type": "code",
   "execution_count": 14,
   "metadata": {},
   "outputs": [
    {
     "name": "stdout",
     "output_type": "stream",
     "text": [
      "20\n",
      "10\n",
      "90\n",
      "c is bigger\n"
     ]
    }
   ],
   "source": [
    "# biggest of three numbers\n",
    "a=int(input(\"\"))\n",
    "b=int(input(\"\"))\n",
    "c=int(input(\"\"))\n",
    "if(a>b and a>c):\n",
    "    print(\"a is bigger\")\n",
    "elif b>c:\n",
    "    print(\"b is bigger\")\n",
    "else:\n",
    "    print(\"c is bigger\")"
   ]
  },
  {
   "cell_type": "code",
   "execution_count": 18,
   "metadata": {},
   "outputs": [
    {
     "name": "stdout",
     "output_type": "stream",
     "text": [
      "2020\n",
      "leap year\n"
     ]
    }
   ],
   "source": [
    "# leap year\n",
    "year=int(input())\n",
    "if year%400==0 or (year%4==0 and year%100!=0):\n",
    "    print(\"leap year\")\n",
    "else:\n",
    "    print(\"not leap year\")"
   ]
  },
  {
   "cell_type": "code",
   "execution_count": 3,
   "metadata": {},
   "outputs": [
    {
     "name": "stdout",
     "output_type": "stream",
     "text": [
      "enter string:sameena\n",
      "enter no:sameena\n",
      "equal\n"
     ]
    }
   ],
   "source": [
    "s=input(\"enter string:\")\n",
    "n=input(\"enter no:\")\n",
    "s1=str(s)\n",
    "n1=str(n)\n",
    "if s1==n1:\n",
    "    print(\"equal\")\n",
    "else:\n",
    "    print(\"not equal\")"
   ]
  },
  {
   "cell_type": "markdown",
   "metadata": {},
   "source": [
    "# elif statment"
   ]
  },
  {
   "cell_type": "code",
   "execution_count": null,
   "metadata": {},
   "outputs": [],
   "source": [
    "#syntax\n",
    "if condition:\n",
    "    statement\n",
    "elif condition:\n",
    "    statement\n",
    "else:\n",
    "    statement"
   ]
  },
  {
   "cell_type": "code",
   "execution_count": 7,
   "metadata": {},
   "outputs": [
    {
     "name": "stdout",
     "output_type": "stream",
     "text": [
      "enter:$\n",
      "special symbols\n"
     ]
    }
   ],
   "source": [
    "n=input(\"enter:\")\n",
    "if (n>='a'and n<'z') or (n>='A' and n<='z'):\n",
    "    print(\"alfabet\")\n",
    "elif (n>='0' and n<='9'):\n",
    "    print(\"digit\")\n",
    "else:\n",
    "    print(\"special symbols\")\n",
    "    "
   ]
  },
  {
   "cell_type": "code",
   "execution_count": 12,
   "metadata": {},
   "outputs": [
    {
     "name": "stdout",
     "output_type": "stream",
     "text": [
      "c\n",
      "good choice\n"
     ]
    }
   ],
   "source": [
    "choice=input()\n",
    "if choice=='a':\n",
    "    print(\"bad choice\")\n",
    "elif choice=='b':\n",
    "    print(\"wrong choice\")\n",
    "elif choice=='c':\n",
    "    print(\"good choice\")\n",
    "else:\n",
    "    print(\"invalid\")"
   ]
  },
  {
   "cell_type": "code",
   "execution_count": 14,
   "metadata": {},
   "outputs": [
    {
     "name": "stdout",
     "output_type": "stream",
     "text": [
      "5\n",
      "friday\n"
     ]
    }
   ],
   "source": [
    "choice=int(input())\n",
    "if choice==1:\n",
    "    print(\"monday\")\n",
    "elif choice==2:\n",
    "    print(\"tuesday\")\n",
    "elif choice==3:\n",
    "    print(\"wednessday\")\n",
    "elif choice==4:\n",
    "    print(\"thursday\")\n",
    "elif choice==5:\n",
    "    print(\"friday\")\n",
    "elif choice==6:\n",
    "    print(\"saturday\")\n",
    "elif choice==7:\n",
    "    print(\"sunday\")\n",
    "else:\n",
    "    print(\"invalid\")"
   ]
  },
  {
   "cell_type": "markdown",
   "metadata": {},
   "source": [
    "# Nested if statement"
   ]
  },
  {
   "cell_type": "code",
   "execution_count": null,
   "metadata": {},
   "outputs": [],
   "source": [
    "#syntax\n",
    "if condition:\n",
    "    statement\n",
    "    if condition:\n",
    "        statement\n",
    "    elif condition:\n",
    "        statement\n",
    "    else:\n",
    "        statement\n",
    "else:\n",
    "    statement"
   ]
  },
  {
   "cell_type": "code",
   "execution_count": 17,
   "metadata": {},
   "outputs": [
    {
     "name": "stdout",
     "output_type": "stream",
     "text": [
      "enter number:22\n",
      "10648\n"
     ]
    }
   ],
   "source": [
    "n=int(input(\"enter number:\"))\n",
    "if n%2==0:\n",
    "    if n<5:\n",
    "        print(n**2)\n",
    "    else:\n",
    "        print(n**3)\n",
    "else:\n",
    "    print(\"odd\")"
   ]
  },
  {
   "cell_type": "markdown",
   "metadata": {},
   "source": [
    "# TASKS 1,2,3"
   ]
  },
  {
   "cell_type": "code",
   "execution_count": null,
   "metadata": {},
   "outputs": [],
   "source": [
    "# task(if,elif,else)\n",
    "80-100-------> a grade\n",
    "70-79---------> b grade\n",
    "60- 69----------->c grade\n",
    "45-59-------------->d grade\n",
    "<=44---------------->fail\n",
    "................................................................................................................................\n",
    "#task 2\n",
    "add, mul,sub,.........\n",
    "if 1 add two numbers\n",
    "if 2 sub numbers\n",
    "if 3 mul numbers\n",
    "a=int(input())\n",
    "b=int(input())\n",
    "print(\"1.add 2.sub 3.mul\")\n",
    "choice=int(input(\"enter ur choice:\"))\n",
    "................................................................................................................................\n",
    "#task3\n",
    "uid=int(input())-----70\n",
    "if 50-100\n",
    "    pwd=\n",
    "    if pwd==9000\n",
    "    welcome\n",
    "    invalid password\n",
    "else invalid username"
   ]
  },
  {
   "cell_type": "markdown",
   "metadata": {},
   "source": [
    "# Task 1"
   ]
  },
  {
   "cell_type": "code",
   "execution_count": 2,
   "metadata": {},
   "outputs": [
    {
     "name": "stdout",
     "output_type": "stream",
     "text": [
      "enter marks:100\n",
      "Grade A\n"
     ]
    }
   ],
   "source": [
    "# Task 1\n",
    "# Grades given to marks\n",
    "m=int(input(\"enter marks:\"))\n",
    "if (m>=80 and m<=100):\n",
    "    print(\"Grade A\")\n",
    "elif (m>=70 and m<=79):\n",
    "    print(\"Grade B\")\n",
    "elif (m>=60  and m<=69):\n",
    "    print(\"grade C\")\n",
    "elif (m>=45 and m<=59):\n",
    "      print(\"Grade D\")\n",
    "else:\n",
    "      print(\"Fail\")"
   ]
  },
  {
   "cell_type": "markdown",
   "metadata": {},
   "source": [
    "# Task 2"
   ]
  },
  {
   "cell_type": "code",
   "execution_count": 3,
   "metadata": {},
   "outputs": [
    {
     "name": "stdout",
     "output_type": "stream",
     "text": [
      "enter number:2\n",
      "enter number:2\n",
      "1. add 2. sub 3. mul 4. div 5. mod 6. floor\n",
      "enter ur choice:1\n",
      "add is: 4\n"
     ]
    }
   ],
   "source": [
    "# Task 2\n",
    "# arthemetic operators\n",
    "a=int(input(\"enter number:\"))\n",
    "b=int(input(\"enter number:\"))\n",
    "print(\"1. add 2. sub 3. mul 4. div 5. mod 6. floor\")\n",
    "choice=int(input(\"enter ur choice:\"))\n",
    "if choice==1:\n",
    "    print(\"add is:\", a+b)\n",
    "elif choice==2:\n",
    "    print(\"sub is:\", a-b)\n",
    "elif choice==3:\n",
    "    print(\"mul is:\", a*b)\n",
    "elif choice== 4:\n",
    "    print(\"div is:\", a/b)\n",
    "elif choice== 5:\n",
    "    print(\"mod is:\", a%b)\n",
    "elif choice== 6:\n",
    "    print(\"floor is:\", a//b)\n",
    "else:\n",
    "    print(\"wrong choice\")"
   ]
  },
  {
   "cell_type": "markdown",
   "metadata": {},
   "source": [
    "# Task 3"
   ]
  },
  {
   "cell_type": "code",
   "execution_count": 4,
   "metadata": {},
   "outputs": [
    {
     "name": "stdout",
     "output_type": "stream",
     "text": [
      "enter uid:55\n",
      "enter pwd:9000\n",
      "welcome\n"
     ]
    }
   ],
   "source": [
    "uid=int(input(\"enter uid:\"))\n",
    "if (uid>=50 or uid<=100):\n",
    "    pwd=int(input(\"enter pwd:\"))\n",
    "    if pwd==9000:\n",
    "        print(\"welcome\")\n",
    "    else:\n",
    "        print(\"invalid\")\n",
    "else:\n",
    "    print(\"invalid user name\")"
   ]
  }
 ],
 "metadata": {
  "kernelspec": {
   "display_name": "Python 3",
   "language": "python",
   "name": "python3"
  },
  "language_info": {
   "codemirror_mode": {
    "name": "ipython",
    "version": 3
   },
   "file_extension": ".py",
   "mimetype": "text/x-python",
   "name": "python",
   "nbconvert_exporter": "python",
   "pygments_lexer": "ipython3",
   "version": "3.7.1"
  }
 },
 "nbformat": 4,
 "nbformat_minor": 2
}
